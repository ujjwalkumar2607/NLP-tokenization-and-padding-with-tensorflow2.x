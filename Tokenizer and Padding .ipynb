{
 "cells": [
  {
   "cell_type": "code",
   "execution_count": 1,
   "metadata": {},
   "outputs": [],
   "source": [
    "import tensorflow as tf\n",
    "from tensorflow import keras\n",
    "from tensorflow.keras.preprocessing.text import Tokenizer\n",
    "from tensorflow.keras.preprocessing.sequence import pad_sequences"
   ]
  },
  {
   "cell_type": "code",
   "execution_count": 2,
   "metadata": {},
   "outputs": [],
   "source": [
    "sentences = [\n",
    "            'my name is ujjwal',\n",
    "            'i live in delhi',\n",
    "            'dog is an animal',\n",
    "            'I am a computer science student'\n",
    "            ]"
   ]
  },
  {
   "cell_type": "code",
   "execution_count": 3,
   "metadata": {},
   "outputs": [
    {
     "name": "stdout",
     "output_type": "stream",
     "text": [
      "{'<OOV>': 1, 'is': 2, 'i': 3, 'my': 4, 'name': 5, 'ujjwal': 6, 'live': 7, 'in': 8, 'delhi': 9, 'dog': 10, 'an': 11, 'animal': 12, 'am': 13, 'a': 14, 'computer': 15, 'science': 16, 'student': 17}\n",
      "[[4, 5, 2, 6], [3, 7, 8, 9], [10, 2, 11, 12], [3, 13, 14, 15, 16, 17]]\n",
      "[[ 0  0  4  5  2  6]\n",
      " [ 0  0  3  7  8  9]\n",
      " [ 0  0 10  2 11 12]\n",
      " [ 3 13 14 15 16 17]]\n",
      "[[4, 5, 2, 1, 1], [1, 4, 1, 1]]\n",
      "[[0 0 0 0 0 4 5 2 1 1]\n",
      " [0 0 0 0 0 0 1 4 1 1]]\n"
     ]
    }
   ],
   "source": [
    "tokenizer = Tokenizer(num_words = 100, oov_token = \"<OOV>\")\n",
    "tokenizer.fit_on_texts(sentences)\n",
    "word_index = tokenizer.word_index\n",
    "print(word_index)\n",
    "\n",
    "sequences = tokenizer.texts_to_sequences(sentences)\n",
    "print(sequences)\n",
    "\n",
    "padded = pad_sequences(sequences, maxlen = 6)\n",
    "                      #(padding='post'),   to start padding to the right, default is pre\n",
    "                      #(truncating='post') if maxlen < the length of actual sentence then it will truncate from the right i.e post, default is pre\n",
    "print(padded)\n",
    "\n",
    "test_data = [\n",
    "            'my name is geoffery hinton',\n",
    "            'hello my mentor geoffery'\n",
    "            ]\n",
    "test_sequences = tokenizer.texts_to_sequences(test_data)\n",
    "print(test_sequences)\n",
    "\n",
    "test_padded = pad_sequences(test_sequences, maxlen=10)\n",
    "print(test_padded)"
   ]
  },
  {
   "cell_type": "code",
   "execution_count": null,
   "metadata": {},
   "outputs": [],
   "source": []
  }
 ],
 "metadata": {
  "kernelspec": {
   "display_name": "Python 3",
   "language": "python",
   "name": "python3"
  },
  "language_info": {
   "codemirror_mode": {
    "name": "ipython",
    "version": 3
   },
   "file_extension": ".py",
   "mimetype": "text/x-python",
   "name": "python",
   "nbconvert_exporter": "python",
   "pygments_lexer": "ipython3",
   "version": "3.7.7"
  }
 },
 "nbformat": 4,
 "nbformat_minor": 2
}
